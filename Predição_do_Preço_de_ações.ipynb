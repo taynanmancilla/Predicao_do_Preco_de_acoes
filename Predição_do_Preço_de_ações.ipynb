{
  "nbformat": 4,
  "nbformat_minor": 0,
  "metadata": {
    "colab": {
      "provenance": [],
      "authorship_tag": "ABX9TyPW5Lp0FeqxbCuXf+F5GqKN",
      "include_colab_link": true
    },
    "kernelspec": {
      "name": "python3",
      "display_name": "Python 3"
    },
    "language_info": {
      "name": "python"
    }
  },
  "cells": [
    {
      "cell_type": "markdown",
      "metadata": {
        "id": "view-in-github",
        "colab_type": "text"
      },
      "source": [
        "<a href=\"https://colab.research.google.com/github/taynanmancilla/Predicao_do_Preco_de_acoes/blob/main/Predi%C3%A7%C3%A3o_do_Pre%C3%A7o_de_a%C3%A7%C3%B5es.ipynb\" target=\"_parent\"><img src=\"https://colab.research.google.com/assets/colab-badge.svg\" alt=\"Open In Colab\"/></a>"
      ]
    },
    {
      "cell_type": "markdown",
      "source": [
        "# Predição do Preço de ações\n",
        "\n",
        "Taynan Mancilla\n",
        "\n",
        "Engenharia de Computação\n",
        "\n",
        "Inteligência Artificial"
      ],
      "metadata": {
        "id": "YHsvKqZld6OH"
      }
    },
    {
      "cell_type": "code",
      "execution_count": null,
      "metadata": {
        "id": "BLhmd2-qdJfD"
      },
      "outputs": [],
      "source": [
        "!pip install yfinance\n",
        "import yfinance as yf\n",
        "import pandas as pd\n",
        "from pandas_datareader import data as pdr\n",
        "import numpy as np\n",
        "\n",
        "from sklearn.preprocessing import MinMaxScaler\n",
        "from keras.models import Sequential\n",
        "from keras.layers import Dense, LSTM\n",
        "\n",
        "import matplotlib.pyplot as plt\n",
        "\n",
        "pd.options.mode.chained_assignment = None"
      ]
    },
    {
      "cell_type": "markdown",
      "source": [
        "## 1. Tratando os dados"
      ],
      "metadata": {
        "id": "O5N1ThqF7Lfa"
      }
    },
    {
      "cell_type": "markdown",
      "source": [
        "A ação em questão sera da Magazine Luiza,foram testados outros ativos como Petrobras e Vale,porém os melhores resultados foram com Magalu\n",
        "\n",
        "\n",
        "Os dados serão puxados da YahooFinance desde 2014 até o último dia útil da entrega\n",
        "\n",
        "\n"
      ],
      "metadata": {
        "id": "wG1JYknjfrhW"
      }
    },
    {
      "cell_type": "code",
      "source": [
        "ativo = \"MGLU3.SA\"\n",
        "\n",
        "inicio = \"2014-12-31\"\n",
        "fim = \"2022-12-09\"\n",
        "\n",
        "papel = yf.download(ativo, start=inicio, end=fim)"
      ],
      "metadata": {
        "colab": {
          "base_uri": "https://localhost:8080/"
        },
        "id": "GJHO4-Ezd24J",
        "outputId": "199f45d8-cfb5-4290-db8d-ae960714f370"
      },
      "execution_count": 23,
      "outputs": [
        {
          "output_type": "stream",
          "name": "stdout",
          "text": [
            "\r[*********************100%***********************]  1 of 1 completed\n"
          ]
        }
      ]
    },
    {
      "cell_type": "markdown",
      "source": [
        "Sera utilizado para a predição os valores de fechamento do ativo que estão na coluna 'Close'.\n",
        "\n",
        "Não sera utilizado a coluna de Fechamento Ajustado (adj close) pois não \n",
        "são os valores reais da ação, esses valores são ajustados para um cálculo de retorno baseado em dividendos, logo são valores que o Ativo nunca possuiu\n",
        "\n",
        "---\n",
        "Sera atribuido apenas a coluna 'Close' a um objeto, convertendo-o de DataFrame para Array com o *to_numpy()* e logo em seguida formatando para matriz de uma coluna com o *reshape()*"
      ],
      "metadata": {
        "id": "SVFwGU91ifaD"
      }
    },
    {
      "cell_type": "code",
      "source": [
        "fechamento = papel['Close']\n",
        "fechamento = fechamento.to_numpy()\n",
        "fechamento = fechamento.reshape(-1, 1)"
      ],
      "metadata": {
        "id": "y8VvDUjcgxni"
      },
      "execution_count": 24,
      "outputs": []
    },
    {
      "cell_type": "markdown",
      "source": [
        "## 2. Treinando o Modelo"
      ],
      "metadata": {
        "id": "PEgdDR7E7bGT"
      }
    },
    {
      "cell_type": "markdown",
      "source": [
        "Primeiro vamos pegar apenas o tamanho de dados de treinamento, definindo-o em 80%, para usar no escalador\n",
        "\n",
        "Note que o resultado foi de 1574 dias"
      ],
      "metadata": {
        "id": "4u5lVR4bk6bM"
      }
    },
    {
      "cell_type": "code",
      "source": [
        "size_train = int(len(fechamento)*0.8)\n",
        "\n",
        "size_train"
      ],
      "metadata": {
        "colab": {
          "base_uri": "https://localhost:8080/"
        },
        "id": "hXgfDOjgkenK",
        "outputId": "d9231c9a-28e0-4316-bc30-3c42ae002e9a"
      },
      "execution_count": 25,
      "outputs": [
        {
          "output_type": "execute_result",
          "data": {
            "text/plain": [
              "1578"
            ]
          },
          "metadata": {},
          "execution_count": 25
        }
      ]
    },
    {
      "cell_type": "markdown",
      "source": [
        "Agora vamos escalar os dados de treinamento e de teste, separadamente, entre 0 e 1 para facilitar o processamento utilizando o **MinMaxScaler**\n",
        "\n",
        "Note que esta sendo usado Fatiamento para dividir os dados\n",
        "\n",
        "Juntamos os dois conjuntos de dados em 'dados_escalados' para formar o conjunto completo e por fim convertemos esse conjunto para um array (np.array()) de apenas uma coluna (reshape())"
      ],
      "metadata": {
        "id": "MfWP1rA6lmZ8"
      }
    },
    {
      "cell_type": "code",
      "source": [
        "escalador = MinMaxScaler(feature_range=(0, 1))\n",
        "\n",
        "E_train = escalador.fit_transform(fechamento[0: size_train, :])\n",
        "\n",
        "E_test = escalador.fit_transform(fechamento[size_train: , :])\n",
        "\n",
        "dados_escalados = list(E_train.reshape(len(E_train))) + list(E_test.reshape(len(E_test)))\n",
        "\n",
        "dados_escalados = np.array(dados_escalados).reshape(len(dados_escalados), 1)"
      ],
      "metadata": {
        "id": "lPvjjuSyllvl"
      },
      "execution_count": 26,
      "outputs": []
    },
    {
      "cell_type": "markdown",
      "source": [
        "Vamos criar duas listas: X_train(onde colocaremos os dados que serão usados para gerar o resultado) e y_train(que recebera a cotação que aconteceu de fato)\n",
        "\n",
        "Faremos um laço onde, a cada 60 cotações(X_train) sera gerado um preco(y_train)\n",
        "\n",
        "Foram feitos testes utilizando 30, 90 e 120 dias, no entanto 60 dias resultaram em melhores resultados"
      ],
      "metadata": {
        "id": "IaHGLjkPzXQR"
      }
    },
    {
      "cell_type": "code",
      "source": [
        "X_train = []\n",
        "y_train = []\n",
        "\n",
        "for i in range(60, len(E_train)):\n",
        "  # ultimos 60 dias\n",
        "  X_train.append(E_train[i-60: i, 0])\n",
        "  # cotacao\n",
        "  y_train.append(E_train[i, 0])"
      ],
      "metadata": {
        "id": "AtZpZu8Mkekh"
      },
      "execution_count": 27,
      "outputs": []
    },
    {
      "cell_type": "markdown",
      "source": [
        "Transformando as listas em arrays e dando reshape de 3 dimensões para que possa ser usado no modelo"
      ],
      "metadata": {
        "id": "7rE9R_h-rV6e"
      }
    },
    {
      "cell_type": "code",
      "source": [
        "X_train = np.array(X_train)\n",
        "y_train = np.array(y_train)\n",
        "\n",
        "X_train = X_train.reshape(X_train.shape[0], X_train.shape[1], 1)"
      ],
      "metadata": {
        "id": "4nLcZERGkehV"
      },
      "execution_count": 28,
      "outputs": []
    },
    {
      "cell_type": "markdown",
      "source": [
        "Construindo o Modelo\n",
        "\n",
        "Vamos criar um modelo de 50 neurônios inicialmente, aumentando logo em seguida\n",
        "\n",
        "Sera utilizado Camada de Memoria de Longo Prazo (LSTM) como Rede Neural\n",
        "\n",
        "*   **return_sequences = True** | pois vamos usar outro LSTM logo em seguida\n",
        "*   **input_shape=(X_train.shape[1], 1)** | 60 cotações(X_train) para gerar o preco do proximo dia\n",
        "*   Definir o Shape, que no caso sao 60 informacões para gerar uma\n",
        "*   Adicionando mais neurônios com o **Dense** (25 e 1)"
      ],
      "metadata": {
        "id": "rxWEb_R8sMT-"
      }
    },
    {
      "cell_type": "code",
      "source": [
        "model = Sequential()\n",
        "\n",
        "model.add(LSTM(50, return_sequences=True, input_shape=(X_train.shape[1], 1)))\n",
        "model.add(LSTM(50, return_sequences=False))\n",
        "model.add(Dense(25))\n",
        "model.add(Dense(1))\n",
        "\n",
        "X_train.shape[1]"
      ],
      "metadata": {
        "colab": {
          "base_uri": "https://localhost:8080/"
        },
        "id": "yASIPXXOkeeF",
        "outputId": "c4e518f2-4a86-4139-9599-2b4f8947f68d"
      },
      "execution_count": 29,
      "outputs": [
        {
          "output_type": "execute_result",
          "data": {
            "text/plain": [
              "60"
            ]
          },
          "metadata": {},
          "execution_count": 29
        }
      ]
    },
    {
      "cell_type": "markdown",
      "source": [
        "Agora vamos copilar o modelo\n",
        "\n",
        "Vamos medir o erro do modelo utilizando o classico Erro Medio Quadratico em *loss=\"mean_squared_error\"*\n",
        "\n",
        "E como otimização o \"adam\", pois entregou melhores resutados comparado ao \"sgd\""
      ],
      "metadata": {
        "id": "mLYex7IDuXna"
      }
    },
    {
      "cell_type": "code",
      "source": [
        "model.compile(optimizer=\"adam\", loss=\"mean_squared_error\")"
      ],
      "metadata": {
        "id": "Ta6fs_JMkeZE"
      },
      "execution_count": 30,
      "outputs": []
    },
    {
      "cell_type": "markdown",
      "source": [
        "Agora com o modelo compilado vamos treinar o modelo\n",
        "\n",
        "*   **batch_size** | de quantas em quantas amostras o modelo ira otimizar os parâmetros\n",
        "*   **epochs** | quantas vezes o algoritmo ira rodar os dados, aprendendo"
      ],
      "metadata": {
        "id": "Q3wu8GYUvPCZ"
      }
    },
    {
      "cell_type": "code",
      "source": [
        "model.fit(X_train, y_train, batch_size=1, epochs=3)"
      ],
      "metadata": {
        "colab": {
          "base_uri": "https://localhost:8080/"
        },
        "id": "IKA45nP0uduz",
        "outputId": "8f2dc9f6-b994-427b-d929-8ea69f7d64ef"
      },
      "execution_count": 31,
      "outputs": [
        {
          "output_type": "stream",
          "name": "stdout",
          "text": [
            "Epoch 1/3\n",
            "1518/1518 [==============================] - 61s 38ms/step - loss: 0.0021\n",
            "Epoch 2/3\n",
            "1518/1518 [==============================] - 52s 34ms/step - loss: 9.1022e-04\n",
            "Epoch 3/3\n",
            "1518/1518 [==============================] - 51s 33ms/step - loss: 7.4068e-04\n"
          ]
        },
        {
          "output_type": "execute_result",
          "data": {
            "text/plain": [
              "<keras.callbacks.History at 0x7f51e5ffac40>"
            ]
          },
          "metadata": {},
          "execution_count": 31
        }
      ]
    },
    {
      "cell_type": "markdown",
      "source": [
        "Agora vamos criar os dados de teste, com o modelo ja treinado\n",
        "\n",
        "Vamos pegar os 20% finais menos 60 puxando essas 60 cotações anteriores pra treinar o input dos 20%"
      ],
      "metadata": {
        "id": "lzMaw7sswNxB"
      }
    },
    {
      "cell_type": "code",
      "source": [
        "dados_teste = dados_escalados[size_train-60: , :] \n",
        "\n",
        "X_test = []\n",
        "\n",
        "y_test = fechamento[size_train: , :]\n",
        "\n",
        "for i in range(60, len(dados_teste)):\n",
        "  X_test.append(dados_teste[i - 60: i, 0])"
      ],
      "metadata": {
        "id": "OAmYCIsgudlr"
      },
      "execution_count": 32,
      "outputs": []
    },
    {
      "cell_type": "markdown",
      "source": [
        "Agora convertemos pra Array e damos um reshape pra 3 dimensões pra usar no modelo"
      ],
      "metadata": {
        "id": "IebkVEMe6IDL"
      }
    },
    {
      "cell_type": "code",
      "source": [
        "X_test = np.array(X_test)\n",
        "\n",
        "X_test = X_test.reshape(X_test.shape[0], X_test.shape[1], 1)"
      ],
      "metadata": {
        "id": "sfOVwsnIwU0U"
      },
      "execution_count": 33,
      "outputs": []
    },
    {
      "cell_type": "markdown",
      "source": [
        "Agora vamos finalmente criar as predições baseadas no X_test atribuindo ao y_pred com o **model.predict**\n",
        "\n",
        "E tirar da escala de 0 e 1, voltando ao preco normal do ativo com o **escalador.inverse_transform**"
      ],
      "metadata": {
        "id": "Ru7_h-kH6n1d"
      }
    },
    {
      "cell_type": "code",
      "source": [
        "y_pred = model.predict(X_test)\n",
        "\n",
        "y_pred = escalador.inverse_transform(y_pred)"
      ],
      "metadata": {
        "colab": {
          "base_uri": "https://localhost:8080/"
        },
        "id": "hQMBSriwwUyT",
        "outputId": "86b2eec1-cee3-4cb3-f823-fdc35218c084"
      },
      "execution_count": 34,
      "outputs": [
        {
          "output_type": "stream",
          "name": "stdout",
          "text": [
            "13/13 [==============================] - 1s 17ms/step\n"
          ]
        }
      ]
    },
    {
      "cell_type": "markdown",
      "source": [
        "Note que chegamos a um Erro Quadrático Médio(RMSE) de 1 centavo utilizando o epochs=3, com o epochs=1 tivemos um RMSE de 59 centavos.\n",
        "\n",
        "O valor máximo testado para o epochs foi 200, no entando tivemos um resultado de RMSE muito semelhante ao epochs=3"
      ],
      "metadata": {
        "id": "udLtg4gb3ZvX"
      }
    },
    {
      "cell_type": "code",
      "source": [
        "rmse = np.sqrt(np.mean(y_pred - y_test) ** 2)\n",
        "rmse"
      ],
      "metadata": {
        "colab": {
          "base_uri": "https://localhost:8080/"
        },
        "id": "hdqwaBwA2Pct",
        "outputId": "30f67468-03bc-4df4-d8fc-322cb091de3c"
      },
      "execution_count": 35,
      "outputs": [
        {
          "output_type": "execute_result",
          "data": {
            "text/plain": [
              "0.010378075853178773"
            ]
          },
          "metadata": {},
          "execution_count": 35
        }
      ]
    },
    {
      "cell_type": "markdown",
      "source": [
        "Outro parâmetro utiizado para analisar o modelo foi o R2 (coeficiente de determinação) função de pontuação de regressão.\n",
        "\n",
        "A melhor pontuação possível é 1.0, logo, com esse resultado de 0.99 podemos concluir que tivemos um resultado bastante satisfatório"
      ],
      "metadata": {
        "id": "EzaiZExb_Ry4"
      }
    },
    {
      "cell_type": "code",
      "source": [
        "from sklearn.metrics import r2_score\n",
        "\n",
        "r2_score(y_test, y_pred)"
      ],
      "metadata": {
        "colab": {
          "base_uri": "https://localhost:8080/"
        },
        "id": "hwGMOn57_RCo",
        "outputId": "15f075cd-0fdb-4f22-c721-0dd2b92cf1f4"
      },
      "execution_count": 39,
      "outputs": [
        {
          "output_type": "execute_result",
          "data": {
            "text/plain": [
              "0.9909252305674098"
            ]
          },
          "metadata": {},
          "execution_count": 39
        }
      ]
    },
    {
      "cell_type": "markdown",
      "source": [
        "## 3. Gráfico do Modelo"
      ],
      "metadata": {
        "id": "mc2Ia9z03jEI"
      }
    },
    {
      "cell_type": "markdown",
      "source": [
        "Vamos gerar um gráfico  do Modelo para podermos ter uma noção mais visual do resultado obtido"
      ],
      "metadata": {
        "id": "HY62QctrAEeS"
      }
    },
    {
      "cell_type": "code",
      "source": [
        "training = papel.iloc[: size_train, :]\n",
        "\n",
        "df_test = pd.DataFrame({\"Close\": papel['Close'].iloc[size_train :],\n",
        "                        \"predicoes\": y_pred.reshape(len(y_pred))})"
      ],
      "metadata": {
        "id": "_yahMqRf2PUV"
      },
      "execution_count": 36,
      "outputs": []
    },
    {
      "cell_type": "markdown",
      "source": [
        "O gráfico será divido por cores para facilitar a leitura, onde\n",
        "*   **Azul** representará os dados de treinamento\n",
        "*   **Laranja** irá representar os dados reais da ação\n",
        "*   Verde será os dados previstos pelo Modelo"
      ],
      "metadata": {
        "id": "d4bwoSI9Ayga"
      }
    },
    {
      "cell_type": "code",
      "source": [
        "plt.figure(figsize=(16,8))\n",
        "plt.title('MODELO')\n",
        "plt.xlabel('Data', fontsize=18)\n",
        "plt.ylabel(\"Preco de Fechamento\", fontsize=18)\n",
        "plt.plot(training['Close'])\n",
        "plt.plot(df_test[['Close', 'predicoes']])\n",
        "plt.legend(['Treinamento', 'Real', 'Predicoes'], loc=2, prop={'size':16})\n",
        "plt.show"
      ],
      "metadata": {
        "colab": {
          "base_uri": "https://localhost:8080/",
          "height": 538
        },
        "id": "1VMDtSQm2PQ4",
        "outputId": "de726148-ee47-4fd5-a874-5c8324c715bf"
      },
      "execution_count": 37,
      "outputs": [
        {
          "output_type": "execute_result",
          "data": {
            "text/plain": [
              "<function matplotlib.pyplot.show(*args, **kw)>"
            ]
          },
          "metadata": {},
          "execution_count": 37
        },
        {
          "output_type": "display_data",
          "data": {
            "text/plain": [
              "<Figure size 1152x576 with 1 Axes>"
            ],
            "image/png": "[encoded data removed]"
          },
          "metadata": {
            "needs_background": "light"
          }
        }
      ]
    },
    {
      "cell_type": "markdown",
      "source": [
        "Note que no inicio das predições os dados previstos(Linha Verde) ficaram um pouco distante em relação ao valor real da ação(Linha Laranja), no entanto, em sua maior parte a Linha Verde ficou em cima da Linha Laranja, significando que a predição conseguiu um resultado bem positivo, fato que podemos confirmar com um Erro Quadratico Medio(RMSE) de 1 centavo e um Coeficiente de Determinação(R2) de 0.99."
      ],
      "metadata": {
        "id": "eLSz9ivjCaQy"
      }
    }
  ]
}